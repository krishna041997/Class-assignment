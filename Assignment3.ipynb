{
 "cells": [
  {
   "cell_type": "code",
   "execution_count": 8,
   "id": "83375a15-c024-4e8e-a8e0-41b16c3afbff",
   "metadata": {},
   "outputs": [
    {
     "name": "stdin",
     "output_type": "stream",
     "text": [
      "enter your mark 60\n"
     ]
    },
    {
     "name": "stdout",
     "output_type": "stream",
     "text": [
      "you are in C Grade\n"
     ]
    }
   ],
   "source": [
    "marks=int(input(\"enter your mark\"))\n",
    "if marks > 90:\n",
    "    print(\"you are in A Grade\")\n",
    "elif marks >80 and marks <=90 :\n",
    "        print(\"you are in B Grade\")\n",
    "elif marks >=60 and marks <=80 :\n",
    "            print(\"you are in C Grade\")\n",
    "else :\n",
    "                print(\"you are in D Grade\")\n",
    "                \n",
    "            "
   ]
  },
  {
   "cell_type": "code",
   "execution_count": 13,
   "id": "6c13bedd-9dba-4048-ad94-d702b5492cab",
   "metadata": {},
   "outputs": [
    {
     "name": "stdin",
     "output_type": "stream",
     "text": [
      "enter you price 90000\n"
     ]
    },
    {
     "name": "stdout",
     "output_type": "stream",
     "text": [
      "you will paid 10% tax on road price\n"
     ]
    }
   ],
   "source": [
    "price=int(input(\"enter you price\"))\n",
    "if price >100000 :\n",
    "    print(\"you will paid 15% tax on road price\")\n",
    "elif price >50000 and price <=100000 :\n",
    "        print(\"you will paid 10% tax on road price\")\n",
    "elif price <=50000 :\n",
    "            print(\"you will paid 5% tax on road\")"
   ]
  },
  {
   "cell_type": "code",
   "execution_count": 3,
   "id": "839f6891-e119-4c61-8376-25c14c0234dd",
   "metadata": {},
   "outputs": [],
   "source": [
    "City={\"Delhi\": \"Red Fort\" ,\"Agra\": \"Taj Mahal\", \"Jaipur\": \"Jal Mahal\" }"
   ]
  },
  {
   "cell_type": "code",
   "execution_count": 6,
   "id": "592b9ad7-c392-4f03-9107-cd13b943edcb",
   "metadata": {},
   "outputs": [
    {
     "data": {
      "text/plain": [
       "'Red Fort'"
      ]
     },
     "execution_count": 6,
     "metadata": {},
     "output_type": "execute_result"
    }
   ],
   "source": [
    "City[\"Delhi\"]"
   ]
  },
  {
   "cell_type": "code",
   "execution_count": 8,
   "id": "97b6f864-efe9-4d26-a0a5-7f386d7bcd46",
   "metadata": {},
   "outputs": [
    {
     "data": {
      "text/plain": [
       "'Taj Mahal'"
      ]
     },
     "execution_count": 8,
     "metadata": {},
     "output_type": "execute_result"
    }
   ],
   "source": [
    "City[\"Agra\"]"
   ]
  },
  {
   "cell_type": "code",
   "execution_count": 10,
   "id": "19c55aa0-49d8-4848-ba69-7348d7b1ea35",
   "metadata": {},
   "outputs": [
    {
     "data": {
      "text/plain": [
       "'Jal Mahal'"
      ]
     },
     "execution_count": 10,
     "metadata": {},
     "output_type": "execute_result"
    }
   ],
   "source": [
    "City[\"Jaipur\"]"
   ]
  },
  {
   "cell_type": "code",
   "execution_count": null,
   "id": "9239a3bd-3de3-44b8-a93a-7c549373b671",
   "metadata": {},
   "outputs": [],
   "source": [
    "type"
   ]
  }
 ],
 "metadata": {
  "kernelspec": {
   "display_name": "Python 3 (ipykernel)",
   "language": "python",
   "name": "python3"
  },
  "language_info": {
   "codemirror_mode": {
    "name": "ipython",
    "version": 3
   },
   "file_extension": ".py",
   "mimetype": "text/x-python",
   "name": "python",
   "nbconvert_exporter": "python",
   "pygments_lexer": "ipython3",
   "version": "3.10.8"
  }
 },
 "nbformat": 4,
 "nbformat_minor": 5
}
